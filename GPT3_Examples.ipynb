{
 "cells": [
  {
   "cell_type": "markdown",
   "id": "5ab35890",
   "metadata": {},
   "source": [
    "#### This is a sample script to example OpenAI GPT3 completion\n",
    "There are 4 examples  \n",
    "   1. Create SQL statement from natural language.  \n",
    "   2. Create 2 line story from a given topic.  \n",
    "   3. Create Book list from a genre.  \n",
    "   4. Create a story from first line.  \n",
    "\n",
    "You can use any of the engine from the bellow list to run the script \n",
    "**[Davinci, Curie, Babbage, Ada]**  \n",
    "\n",
    "On average, 1 token is about 4 characters in English text. `max_tokens` is maximum limit for sum of prompt and response text."
   ]
  },
  {
   "cell_type": "code",
   "execution_count": null,
   "id": "0ab36f28",
   "metadata": {},
   "outputs": [],
   "source": [
    "import openai\n",
    "import config\n",
    "\n",
    "openai.api_key = config.api_key\n",
    "engine = 'curie'"
   ]
  },
  {
   "cell_type": "code",
   "execution_count": null,
   "id": "4176cf2d",
   "metadata": {},
   "outputs": [],
   "source": [
    "sql_qList = [\n",
    "\"Create a SQL request to find all products sold between 12 to 28 March 2018 and unit price over 100:\\nSELECT\",\n",
    "\"Create a SQL request to find all users who live in California and have over 1000 credits:\\nSELECT\",\n",
    "\"Create a SQL request to find top 5 best selling comics books for third quater 2020:\\nSELECT\"\n",
    "]\n",
    "for question in sql_qList:\n",
    "    response_sql = openai.Completion.create(\n",
    "        engine=engine,\n",
    "        prompt=question,\n",
    "        temperature=0.5,\n",
    "        max_tokens=60,\n",
    "        top_p=1.0,\n",
    "        frequency_penalty=0.0,\n",
    "        presence_penalty=0.0,\n",
    "        stop=[\"\\n\"]\n",
    "    )\n",
    "    print(f\"{question}\" + response_sql.choices[0].text)\n",
    "    print('\\n')"
   ]
  },
  {
   "cell_type": "code",
   "execution_count": null,
   "id": "25ca2bc6",
   "metadata": {},
   "outputs": [],
   "source": [
    "sample_story = '''\n",
    "Topic: Breakfast\\nTwo-Sentence Horror Story: \n",
    "He always stops crying when I pour the milk on his cereal. \n",
    "I just have to remember not to let him see his face on the carton.\n",
    "'''\n",
    "topic_list = ['Wind', 'Shark', 'Library', 'Cafeteria']\n",
    "for topic in topic_list:\n",
    "    response_story = openai.Completion.create(\n",
    "        engine=engine,\n",
    "        prompt=f\"{sample_story}\\n###\\nTopic: {topic}\\nTwo-Sentence Horror Story:\",\n",
    "        temperature=0.5,\n",
    "        max_tokens=60,\n",
    "        top_p=1.0,\n",
    "        frequency_penalty=0.5,\n",
    "        presence_penalty=0.0,\n",
    "        stop=[\"###\"]\n",
    "    )\n",
    "    print(f\"Topic: {topic}\\nTwo-Sentence Horror Story:\" + response_story.choices[0].text)"
   ]
  },
  {
   "cell_type": "code",
   "execution_count": null,
   "id": "a0957a72",
   "metadata": {},
   "outputs": [],
   "source": [
    "book_genre_list = [\n",
    "\"Science fiction books\\n\\n\\n1. Dune by Frank Herbert\\n2.\",\n",
    "\"Children fantacy books\\n\\n\\n1. Alice's Adventures in Wonderland by Lewis Carroll\\n2.\",\n",
    "\"Young adult fiction books\\n\\n\\n1. The Fault in Our Stars by John Green\\n2.\",\n",
    "\"Detective story books\\n\\n\\n1. Murder on the Orient Express by Agatha Christie\\n2.\"\n",
    "]\n",
    "for genre in book_genre_list:\n",
    "    response_booklist = openai.Completion.create(\n",
    "        engine=engine,\n",
    "        prompt=f\"{genre}\",\n",
    "        temperature=0.5,\n",
    "        max_tokens=200,\n",
    "        top_p=1.0,\n",
    "        frequency_penalty=0.52,\n",
    "        presence_penalty=0.5,\n",
    "        stop=[\"11.\"]\n",
    "    )\n",
    "    print(f'{genre}' + response_booklist.choices[0].text)"
   ]
  },
  {
   "cell_type": "code",
   "execution_count": null,
   "id": "c2c132ed",
   "metadata": {},
   "outputs": [],
   "source": [
    "response = openai.Completion.create(\n",
    "    engine=engine,\n",
    "    prompt='input: Once upon a time a village shepard',\n",
    "    temperature=0.3,\n",
    "    max_tokens=256,\n",
    "    top_p=1.0,\n",
    "    frequency_penalty=0.0,\n",
    "    presence_penalty=0.0,\n",
    "    stop=\"\\ninput:\"\n",
    ")\n",
    "print('Once upon a time a village shepard', response.choices[0].text)"
   ]
  },
  {
   "cell_type": "code",
   "execution_count": null,
   "id": "e34ef974",
   "metadata": {},
   "outputs": [],
   "source": []
  }
 ],
 "metadata": {
  "kernelspec": {
   "display_name": "Python 3",
   "language": "python",
   "name": "python3"
  },
  "language_info": {
   "codemirror_mode": {
    "name": "ipython",
    "version": 3
   },
   "file_extension": ".py",
   "mimetype": "text/x-python",
   "name": "python",
   "nbconvert_exporter": "python",
   "pygments_lexer": "ipython3",
   "version": "3.9.5"
  }
 },
 "nbformat": 4,
 "nbformat_minor": 5
}
